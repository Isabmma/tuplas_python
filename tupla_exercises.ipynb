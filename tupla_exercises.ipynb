{
 "cells": [
  {
   "cell_type": "markdown",
   "metadata": {},
   "source": [
    "# Exercises\n",
    "\n",
    "In the tuple, we can not only work with indexes, but unpack the tuples, which can make our code easier.\n",
    "\n",
    "## 1. Sales Analysis\n",
    "\n",
    "In this exercise we will do a \"simple analysis\" of Goal achievement.\n",
    "\n",
    "We have a list of salespeople and sales values and we want to identify (print) which salespeople have reached the goal and what value they sold."
   ]
  },
  {
   "cell_type": "code",
   "execution_count": 1,
   "metadata": {},
   "outputs": [
    {
     "name": "stdout",
     "output_type": "stream",
     "text": [
      "João reached the goal with 15000 of sales\n",
      "Julia reached the goal with 27000 of sales\n",
      "Ana reached the goal with 10300 of sales\n"
     ]
    }
   ],
   "source": [
    "goal = 10000\n",
    "sales = [\n",
    "    ('João', 15000),\n",
    "    ('Julia', 27000),\n",
    "    ('Marcus', 9900),\n",
    "    ('Maria', 3750),\n",
    "    ('Ana', 10300),\n",
    "    ('Alon', 7870),\n",
    "]\n",
    "\n",
    "for i,sale in enumerate(sales):\n",
    "    if sale[1] >= goal:\n",
    "        print(f\"{sale[0]} reached the goal with {sale[1]} of sales\")"
   ]
  },
  {
   "cell_type": "markdown",
   "metadata": {},
   "source": [
    "## 2. Comparison with Previous Year\n",
    "\n",
    "Let's say you are analyzing the sales of products from an ecommerce and you want to identify which products had more sales in 2020 than in 2019, to report this to the board.\n",
    "\n",
    "Your answer can be a print of each product, what was the sale of 2019, the sale of 2020 and the % growth from 2020 to 2019.\n",
    "\n",
    "Remembering, to calculate the % growth of a product from one year to the next, we can do: (sales_product2020/sales_produto2019 - 1)\n",
    "\n",
    "The tuple logic is: (product, sales2019, sales2020)"
   ]
  },
  {
   "cell_type": "code",
   "execution_count": null,
   "metadata": {},
   "outputs": [],
   "source": [
    "sales_products = [('iphone', 558147, 951642), ('galaxy', 712350, 244295), ('ipad', 573823, 26964), ('tv', 405252, 787604), ('coffee machine', 718654, 867660), ('kindle', 531580, 78830), ('refrigerator', 973139, 710331), ('adega', 892292, 646016), ('notebook dell', 422760, 694913), ('notebook hp', 154753, 539704), ('notebook asus', 887061, 324831), ('microsoft surface', 438508, 667179), ('webcam', 237467, 295633), ('speaker', 489705, 725316), ('microphone', 328311, 644622), ('camera canon', 591120, 994303)]\n",
    "\n"
   ]
  }
 ],
 "metadata": {
  "kernelspec": {
   "display_name": "Python 3.10.4 64-bit",
   "language": "python",
   "name": "python3"
  },
  "language_info": {
   "codemirror_mode": {
    "name": "ipython",
    "version": 3
   },
   "file_extension": ".py",
   "mimetype": "text/x-python",
   "name": "python",
   "nbconvert_exporter": "python",
   "pygments_lexer": "ipython3",
   "version": "3.10.4"
  },
  "vscode": {
   "interpreter": {
    "hash": "396a487d0f9a1aeea6eec7e2661c1b70bd880358e710a503b71d50d0e4959784"
   }
  }
 },
 "nbformat": 4,
 "nbformat_minor": 4
}
